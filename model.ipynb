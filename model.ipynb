{
 "cells": [
  {
   "cell_type": "code",
   "execution_count": 7,
   "metadata": {},
   "outputs": [],
   "source": [
    "import numpy as np\n",
    "import tensorflow as tf\n",
    "import matplotlib.pyplot as plt\n",
    "\n",
    "x_train = np.array(np.load(\"x_train.npy\"))\n",
    "x_test = np.array(np.load(\"x_test.npy\"))\n",
    "x_val = np.array(np.load(\"x_val.npy\"))\n",
    "y_train = np.array(np.load(\"y_train.npy\"))\n",
    "y_test = np.array(np.load(\"y_test.npy\"))\n",
    "y_val = np.array(np.load(\"y_val.npy\"))\n",
    "\n",
    "x_train = x_train.reshape(-1, 96, 128, 1)\n",
    "x_test = x_test.reshape(-1, 96, 128, 1)\n",
    "x_val = x_val.reshape(-1, 96, 128, 1)"
   ]
  },
  {
   "cell_type": "code",
   "execution_count": 8,
   "metadata": {},
   "outputs": [],
   "source": [
    "model = tf.keras.Sequential()"
   ]
  },
  {
   "cell_type": "code",
   "execution_count": 9,
   "metadata": {},
   "outputs": [],
   "source": [
    "model.add(tf.keras.layers.Conv2D(32,\n",
    "                                 kernel_size = (3,3),\n",
    "                                 strides = (1,1),\n",
    "                                 padding = \"same\",\n",
    "                                 activation = \"relu\",\n",
    "                                 input_shape = (96,128,1)))\n",
    "model.add(tf.keras.layers.MaxPooling2D((2,2)))"
   ]
  },
  {
   "cell_type": "code",
   "execution_count": 10,
   "metadata": {},
   "outputs": [],
   "source": [
    "model.add(tf.keras.layers.Conv2D(128,\n",
    "                                 kernel_size = (3,3),\n",
    "                                 strides = (1,1),\n",
    "                                 padding = \"same\",\n",
    "                                 activation = \"gelu\"))\n",
    "model.add(tf.keras.layers.MaxPooling2D((2,2)))"
   ]
  },
  {
   "cell_type": "code",
   "execution_count": 11,
   "metadata": {},
   "outputs": [],
   "source": [
    "model.add(tf.keras.layers.Conv2D(64,\n",
    "                                 kernel_size = (3,3),\n",
    "                                 strides = (1,1),\n",
    "                                 padding = \"same\",\n",
    "                                 activation = \"gelu\"))\n",
    "\n",
    "model.add(tf.keras.layers.Flatten())"
   ]
  },
  {
   "cell_type": "code",
   "execution_count": 12,
   "metadata": {},
   "outputs": [],
   "source": [
    "model.add(tf.keras.layers.Dense(64,\n",
    "                                activation=\"relu\"))\n",
    "model.add(tf.keras.layers.Dropout(0.5))"
   ]
  },
  {
   "cell_type": "code",
   "execution_count": 13,
   "metadata": {},
   "outputs": [],
   "source": [
    "model.add(tf.keras.layers.Dense(10,\n",
    "                                activation=\"softmax\"))"
   ]
  },
  {
   "cell_type": "code",
   "execution_count": 14,
   "metadata": {},
   "outputs": [],
   "source": [
    "model.compile(optimizer=\"adam\",\n",
    "              loss=\"sparse_categorical_crossentropy\",\n",
    "              metrics=[\"accuracy\"])"
   ]
  },
  {
   "cell_type": "code",
   "execution_count": 15,
   "metadata": {},
   "outputs": [
    {
     "name": "stdout",
     "output_type": "stream",
     "text": [
      "Epoch 1/50\n",
      "55/55 [==============================] - 94s 2s/step - loss: 1.6973 - accuracy: 0.3953 - val_loss: 1.1486 - val_accuracy: 0.6110\n",
      "Epoch 2/50\n",
      "55/55 [==============================] - 95s 2s/step - loss: 1.2550 - accuracy: 0.5686 - val_loss: 0.9480 - val_accuracy: 0.6636\n",
      "Epoch 3/50\n",
      "55/55 [==============================] - 96s 2s/step - loss: 1.0983 - accuracy: 0.6241 - val_loss: 0.7631 - val_accuracy: 0.7620\n",
      "Epoch 4/50\n",
      "55/55 [==============================] - 93s 2s/step - loss: 0.9567 - accuracy: 0.6776 - val_loss: 0.7477 - val_accuracy: 0.7540\n",
      "Epoch 5/50\n",
      "55/55 [==============================] - 93s 2s/step - loss: 0.8645 - accuracy: 0.7072 - val_loss: 0.6312 - val_accuracy: 0.8078\n",
      "Epoch 6/50\n",
      "55/55 [==============================] - 95s 2s/step - loss: 0.7740 - accuracy: 0.7349 - val_loss: 0.5819 - val_accuracy: 0.8204\n",
      "Epoch 7/50\n",
      "55/55 [==============================] - 93s 2s/step - loss: 0.7177 - accuracy: 0.7515 - val_loss: 0.5614 - val_accuracy: 0.8181\n",
      "Epoch 8/50\n",
      "55/55 [==============================] - 94s 2s/step - loss: 0.6540 - accuracy: 0.7780 - val_loss: 0.5811 - val_accuracy: 0.8146\n",
      "Epoch 9/50\n",
      "55/55 [==============================] - 94s 2s/step - loss: 0.5986 - accuracy: 0.7964 - val_loss: 0.5587 - val_accuracy: 0.8410\n",
      "Epoch 10/50\n",
      "55/55 [==============================] - 96s 2s/step - loss: 0.5309 - accuracy: 0.8110 - val_loss: 0.4882 - val_accuracy: 0.8432\n",
      "Epoch 11/50\n",
      "55/55 [==============================] - 93s 2s/step - loss: 0.5060 - accuracy: 0.8168 - val_loss: 0.4854 - val_accuracy: 0.8478\n",
      "Epoch 12/50\n",
      "55/55 [==============================] - 92s 2s/step - loss: 0.4837 - accuracy: 0.8289 - val_loss: 0.5052 - val_accuracy: 0.8421\n",
      "Epoch 13/50\n",
      "55/55 [==============================] - 100s 2s/step - loss: 0.4275 - accuracy: 0.8417 - val_loss: 0.5253 - val_accuracy: 0.8421\n",
      "Epoch 14/50\n",
      "55/55 [==============================] - 94s 2s/step - loss: 0.3875 - accuracy: 0.8620 - val_loss: 0.4954 - val_accuracy: 0.8673\n",
      "Epoch 15/50\n",
      "55/55 [==============================] - 93s 2s/step - loss: 0.3765 - accuracy: 0.8607 - val_loss: 0.5075 - val_accuracy: 0.8593\n",
      "Epoch 16/50\n",
      "55/55 [==============================] - 92s 2s/step - loss: 0.3495 - accuracy: 0.8690 - val_loss: 0.5051 - val_accuracy: 0.8604\n",
      "Epoch 17/50\n",
      "55/55 [==============================] - 98s 2s/step - loss: 0.3292 - accuracy: 0.8782 - val_loss: 0.5200 - val_accuracy: 0.8696\n",
      "Epoch 18/50\n",
      "55/55 [==============================] - 88s 2s/step - loss: 0.2860 - accuracy: 0.8939 - val_loss: 0.5294 - val_accuracy: 0.8810\n",
      "Epoch 19/50\n",
      "55/55 [==============================] - 92s 2s/step - loss: 0.2905 - accuracy: 0.8936 - val_loss: 0.5314 - val_accuracy: 0.8730\n",
      "Epoch 20/50\n",
      "55/55 [==============================] - 91s 2s/step - loss: 0.2648 - accuracy: 0.9025 - val_loss: 0.5227 - val_accuracy: 0.8673\n",
      "Epoch 21/50\n",
      "55/55 [==============================] - 90s 2s/step - loss: 0.2691 - accuracy: 0.8999 - val_loss: 0.5059 - val_accuracy: 0.8661\n",
      "Epoch 22/50\n",
      "55/55 [==============================] - 96s 2s/step - loss: 0.2475 - accuracy: 0.9069 - val_loss: 0.5500 - val_accuracy: 0.8856\n",
      "Epoch 23/50\n",
      "55/55 [==============================] - 99s 2s/step - loss: 0.2182 - accuracy: 0.9190 - val_loss: 0.5211 - val_accuracy: 0.8924\n",
      "Epoch 24/50\n",
      "55/55 [==============================] - 95s 2s/step - loss: 0.1901 - accuracy: 0.9300 - val_loss: 0.5703 - val_accuracy: 0.8810\n",
      "Epoch 25/50\n",
      "55/55 [==============================] - 94s 2s/step - loss: 0.1825 - accuracy: 0.9293 - val_loss: 0.5929 - val_accuracy: 0.8799\n",
      "Epoch 26/50\n",
      "55/55 [==============================] - 94s 2s/step - loss: 0.1929 - accuracy: 0.9256 - val_loss: 0.5294 - val_accuracy: 0.8661\n",
      "Epoch 27/50\n",
      "55/55 [==============================] - 90s 2s/step - loss: 0.1712 - accuracy: 0.9333 - val_loss: 0.5722 - val_accuracy: 0.8810\n",
      "Epoch 28/50\n",
      "55/55 [==============================] - 90s 2s/step - loss: 0.1699 - accuracy: 0.9364 - val_loss: 0.6676 - val_accuracy: 0.8810\n",
      "Epoch 29/50\n",
      "55/55 [==============================] - 93s 2s/step - loss: 0.1675 - accuracy: 0.9341 - val_loss: 0.5584 - val_accuracy: 0.8844\n",
      "Epoch 30/50\n",
      "55/55 [==============================] - 90s 2s/step - loss: 0.1649 - accuracy: 0.9369 - val_loss: 0.5879 - val_accuracy: 0.8776\n",
      "Epoch 31/50\n",
      "55/55 [==============================] - 95s 2s/step - loss: 0.1461 - accuracy: 0.9473 - val_loss: 0.6675 - val_accuracy: 0.8924\n",
      "Epoch 32/50\n",
      "55/55 [==============================] - 90s 2s/step - loss: 0.1550 - accuracy: 0.9409 - val_loss: 0.7065 - val_accuracy: 0.8707\n",
      "Epoch 33/50\n",
      "55/55 [==============================] - 91s 2s/step - loss: 0.1513 - accuracy: 0.9422 - val_loss: 0.6082 - val_accuracy: 0.8936\n",
      "Epoch 34/50\n",
      "55/55 [==============================] - 96s 2s/step - loss: 0.1422 - accuracy: 0.9440 - val_loss: 0.6374 - val_accuracy: 0.8833\n",
      "Epoch 35/50\n",
      "55/55 [==============================] - 89s 2s/step - loss: 0.1503 - accuracy: 0.9439 - val_loss: 0.7039 - val_accuracy: 0.8764\n",
      "Epoch 36/50\n",
      "55/55 [==============================] - 96s 2s/step - loss: 0.1299 - accuracy: 0.9513 - val_loss: 0.7119 - val_accuracy: 0.8856\n",
      "Epoch 37/50\n",
      "55/55 [==============================] - 90s 2s/step - loss: 0.1212 - accuracy: 0.9536 - val_loss: 0.6488 - val_accuracy: 0.8879\n",
      "Epoch 38/50\n",
      "55/55 [==============================] - 94s 2s/step - loss: 0.1215 - accuracy: 0.9536 - val_loss: 0.6720 - val_accuracy: 0.8833\n",
      "Epoch 39/50\n",
      "55/55 [==============================] - 91s 2s/step - loss: 0.1392 - accuracy: 0.9477 - val_loss: 0.6749 - val_accuracy: 0.8879\n",
      "Epoch 40/50\n",
      "55/55 [==============================] - 95s 2s/step - loss: 0.1308 - accuracy: 0.9508 - val_loss: 0.7291 - val_accuracy: 0.8707\n",
      "Epoch 41/50\n",
      "55/55 [==============================] - 95s 2s/step - loss: 0.1270 - accuracy: 0.9525 - val_loss: 0.6964 - val_accuracy: 0.8844\n",
      "Epoch 42/50\n",
      "55/55 [==============================] - 90s 2s/step - loss: 0.1130 - accuracy: 0.9578 - val_loss: 0.7395 - val_accuracy: 0.8787\n",
      "Epoch 43/50\n",
      "55/55 [==============================] - 96s 2s/step - loss: 0.1265 - accuracy: 0.9518 - val_loss: 0.7830 - val_accuracy: 0.8719\n",
      "Epoch 44/50\n",
      "55/55 [==============================] - 97s 2s/step - loss: 0.1058 - accuracy: 0.9576 - val_loss: 0.7119 - val_accuracy: 0.8959\n",
      "Epoch 45/50\n",
      "55/55 [==============================] - 92s 2s/step - loss: 0.1071 - accuracy: 0.9576 - val_loss: 0.7299 - val_accuracy: 0.8799\n",
      "Epoch 46/50\n",
      "55/55 [==============================] - 89s 2s/step - loss: 0.1080 - accuracy: 0.9578 - val_loss: 0.9477 - val_accuracy: 0.8696\n",
      "Epoch 47/50\n",
      "55/55 [==============================] - 91s 2s/step - loss: 0.1199 - accuracy: 0.9553 - val_loss: 0.7846 - val_accuracy: 0.8844\n",
      "Epoch 48/50\n",
      "55/55 [==============================] - 90s 2s/step - loss: 0.1197 - accuracy: 0.9532 - val_loss: 0.8383 - val_accuracy: 0.8764\n",
      "Epoch 49/50\n",
      "55/55 [==============================] - 89s 2s/step - loss: 0.1162 - accuracy: 0.9566 - val_loss: 0.6910 - val_accuracy: 0.8844\n",
      "Epoch 50/50\n",
      "55/55 [==============================] - 90s 2s/step - loss: 0.1004 - accuracy: 0.9612 - val_loss: 0.7788 - val_accuracy: 0.8879\n"
     ]
    }
   ],
   "source": [
    "results = model.fit(x_train, y_train,\n",
    "                    batch_size=128,\n",
    "                    epochs=50,\n",
    "                    validation_data=(x_val,y_val))"
   ]
  },
  {
   "cell_type": "code",
   "execution_count": 16,
   "metadata": {},
   "outputs": [
    {
     "data": {
      "image/png": "[encoded data removed]",
      "text/plain": [
       "<Figure size 432x288 with 1 Axes>"
      ]
     },
     "metadata": {
      "needs_background": "light"
     },
     "output_type": "display_data"
    }
   ],
   "source": [
    "plt.plot(results.history[\"loss\"], label=\"loss\")\n",
    "\n",
    "plt.plot(results.history[\"val_loss\"], label=\"val_loss\")\n",
    "\n",
    "plt.xlabel(\"Epoch\")\n",
    "plt.ylabel(\"Loss\")\n",
    "\n",
    "plt.legend()\n",
    "\n",
    "plt.show()"
   ]
  },
  {
   "cell_type": "code",
   "execution_count": 17,
   "metadata": {},
   "outputs": [
    {
     "data": {
      "image/png": "[encoded data removed]",
      "text/plain": [
       "<Figure size 432x288 with 1 Axes>"
      ]
     },
     "metadata": {
      "needs_background": "light"
     },
     "output_type": "display_data"
    }
   ],
   "source": [
    "plt.plot(results.history[\"accuracy\"], label=\"accuracy\")\n",
    "\n",
    "plt.plot(results.history[\"val_accuracy\"], label=\"val_accuracy\")\n",
    "\n",
    "plt.xlabel(\"Epoch\")\n",
    "plt.ylabel(\"Accuracy\")\n",
    "\n",
    "plt.legend()\n",
    "\n",
    "plt.show()"
   ]
  },
  {
   "cell_type": "code",
   "execution_count": 18,
   "metadata": {},
   "outputs": [
    {
     "name": "stdout",
     "output_type": "stream",
     "text": [
      "28/28 [==============================] - 3s 121ms/step - loss: 0.7867 - accuracy: 0.8717\n"
     ]
    },
    {
     "data": {
      "text/plain": [
       "[0.7866755127906799, 0.8717067837715149]"
      ]
     },
     "execution_count": 18,
     "metadata": {},
     "output_type": "execute_result"
    }
   ],
   "source": [
    "model.evaluate(x_test, y_test)"
   ]
  }
 ],
 "metadata": {
  "kernelspec": {
   "display_name": "Python 3.10.1 64-bit",
   "language": "python",
   "name": "python3"
  },
  "language_info": {
   "codemirror_mode": {
    "name": "ipython",
    "version": 3
   },
   "file_extension": ".py",
   "mimetype": "text/x-python",
   "name": "python",
   "nbconvert_exporter": "python",
   "pygments_lexer": "ipython3",
   "version": "3.10.1"
  },
  "orig_nbformat": 4,
  "vscode": {
   "interpreter": {
    "hash": "8606a131322c613504b286d390da4d4ae53d0e9600ce56caa7177143f04754e4"
   }
  }
 },
 "nbformat": 4,
 "nbformat_minor": 2
}
