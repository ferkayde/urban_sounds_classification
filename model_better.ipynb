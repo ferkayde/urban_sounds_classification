{
 "cells": [
  {
   "cell_type": "code",
   "execution_count": 28,
   "metadata": {},
   "outputs": [],
   "source": [
    "import numpy as np\n",
    "import tensorflow as tf\n",
    "import matplotlib.pyplot as plt\n",
    "\n",
    "x_train = np.array(np.load(\"x_train.npy\"))\n",
    "x_test = np.array(np.load(\"x_test.npy\"))\n",
    "x_val = np.array(np.load(\"x_val.npy\"))\n",
    "y_train = np.array(np.load(\"y_train.npy\"))\n",
    "y_test = np.array(np.load(\"y_test.npy\"))\n",
    "y_val = np.array(np.load(\"y_val.npy\"))\n",
    "\n",
    "x_train = x_train.reshape(-1, 96, 128, 1)\n",
    "x_test = x_test.reshape(-1, 96, 128, 1)\n",
    "x_val = x_val.reshape(-1, 96, 128, 1)"
   ]
  },
  {
   "cell_type": "code",
   "execution_count": 29,
   "metadata": {},
   "outputs": [],
   "source": [
    "model = tf.keras.Sequential()"
   ]
  },
  {
   "cell_type": "code",
   "execution_count": 30,
   "metadata": {},
   "outputs": [],
   "source": [
    "model.add(tf.keras.layers.Conv2D(32,\n",
    "                                 kernel_size = (3,3),\n",
    "                                 strides = (1,1),\n",
    "                                 padding = \"same\",\n",
    "                                 activation = \"relu\",\n",
    "                                 input_shape = (96,128,1)))\n",
    "model.add(tf.keras.layers.MaxPooling2D((2,2)))"
   ]
  },
  {
   "cell_type": "code",
   "execution_count": 31,
   "metadata": {},
   "outputs": [],
   "source": [
    "model.add(tf.keras.layers.Conv2D(256,\n",
    "                                 kernel_size = (3,3),\n",
    "                                 strides = (1,1),\n",
    "                                 padding = \"same\",\n",
    "                                 activation = \"relu\"))\n",
    "model.add(tf.keras.layers.MaxPooling2D((2,2)))"
   ]
  },
  {
   "cell_type": "code",
   "execution_count": 32,
   "metadata": {},
   "outputs": [],
   "source": [
    "model.add(tf.keras.layers.Conv2D(256,\n",
    "                                 kernel_size = (3,3),\n",
    "                                 strides = (1,1),\n",
    "                                 padding = \"same\",\n",
    "                                 activation = \"relu\"))\n",
    "model.add(tf.keras.layers.MaxPooling2D((2,2)))"
   ]
  },
  {
   "cell_type": "code",
   "execution_count": 33,
   "metadata": {},
   "outputs": [],
   "source": [
    "model.add(tf.keras.layers.Conv2D(256,\n",
    "                                 kernel_size = (3,3),\n",
    "                                 strides = (1,1),\n",
    "                                 padding = \"same\",\n",
    "                                 activation = \"relu\"))\n",
    "\n",
    "model.add(tf.keras.layers.Flatten())"
   ]
  },
  {
   "cell_type": "code",
   "execution_count": 34,
   "metadata": {},
   "outputs": [],
   "source": [
    "model.add(tf.keras.layers.Dense(64,\n",
    "                                activation=\"relu\"))\n",
    "model.add(tf.keras.layers.Dropout(0.5))"
   ]
  },
  {
   "cell_type": "code",
   "execution_count": 35,
   "metadata": {},
   "outputs": [],
   "source": [
    "model.add(tf.keras.layers.Dense(64,\n",
    "                                activation=\"relu\"))\n",
    "model.add(tf.keras.layers.Dropout(0.5))"
   ]
  },
  {
   "cell_type": "code",
   "execution_count": 36,
   "metadata": {},
   "outputs": [],
   "source": [
    "model.add(tf.keras.layers.Dense(10,\n",
    "                                activation=\"softmax\"))"
   ]
  },
  {
   "cell_type": "code",
   "execution_count": 37,
   "metadata": {},
   "outputs": [],
   "source": [
    "model.compile(optimizer=\"adam\",\n",
    "              loss=\"sparse_categorical_crossentropy\",\n",
    "              metrics=[\"accuracy\"])"
   ]
  },
  {
   "cell_type": "code",
   "execution_count": 38,
   "metadata": {},
   "outputs": [
    {
     "name": "stdout",
     "output_type": "stream",
     "text": [
      "Epoch 1/50\n",
      "55/55 [==============================] - 17s 195ms/step - loss: 2.1676 - accuracy: 0.1973 - val_loss: 1.8013 - val_accuracy: 0.4394\n",
      "Epoch 2/50\n",
      "55/55 [==============================] - 7s 128ms/step - loss: 1.8393 - accuracy: 0.3326 - val_loss: 1.4907 - val_accuracy: 0.5034\n",
      "Epoch 3/50\n",
      "55/55 [==============================] - 6s 116ms/step - loss: 1.6426 - accuracy: 0.3993 - val_loss: 1.2830 - val_accuracy: 0.5435\n",
      "Epoch 4/50\n",
      "55/55 [==============================] - 6s 113ms/step - loss: 1.4632 - accuracy: 0.4553 - val_loss: 1.1690 - val_accuracy: 0.6316\n",
      "Epoch 5/50\n",
      "55/55 [==============================] - 6s 111ms/step - loss: 1.3313 - accuracy: 0.5125 - val_loss: 0.9184 - val_accuracy: 0.7391\n",
      "Epoch 6/50\n",
      "55/55 [==============================] - 6s 110ms/step - loss: 1.2027 - accuracy: 0.5734 - val_loss: 0.8624 - val_accuracy: 0.7380\n",
      "Epoch 7/50\n",
      "55/55 [==============================] - 6s 110ms/step - loss: 1.0917 - accuracy: 0.6315 - val_loss: 0.7533 - val_accuracy: 0.7941\n",
      "Epoch 8/50\n",
      "55/55 [==============================] - 6s 108ms/step - loss: 0.9935 - accuracy: 0.6576 - val_loss: 0.7442 - val_accuracy: 0.8158\n",
      "Epoch 9/50\n",
      "55/55 [==============================] - 6s 110ms/step - loss: 0.9178 - accuracy: 0.6923 - val_loss: 0.6485 - val_accuracy: 0.8284\n",
      "Epoch 10/50\n",
      "55/55 [==============================] - 6s 110ms/step - loss: 0.8499 - accuracy: 0.7207 - val_loss: 0.5960 - val_accuracy: 0.8387\n",
      "Epoch 11/50\n",
      "55/55 [==============================] - 6s 111ms/step - loss: 0.7798 - accuracy: 0.7379 - val_loss: 0.5531 - val_accuracy: 0.8455\n",
      "Epoch 12/50\n",
      "55/55 [==============================] - 6s 111ms/step - loss: 0.7176 - accuracy: 0.7585 - val_loss: 0.5159 - val_accuracy: 0.8535\n",
      "Epoch 13/50\n",
      "55/55 [==============================] - 6s 111ms/step - loss: 0.7112 - accuracy: 0.7621 - val_loss: 0.5278 - val_accuracy: 0.8444\n",
      "Epoch 14/50\n",
      "55/55 [==============================] - 6s 109ms/step - loss: 0.6495 - accuracy: 0.7767 - val_loss: 0.4934 - val_accuracy: 0.8501\n",
      "Epoch 15/50\n",
      "55/55 [==============================] - 6s 109ms/step - loss: 0.5917 - accuracy: 0.7987 - val_loss: 0.5234 - val_accuracy: 0.8261\n",
      "Epoch 16/50\n",
      "55/55 [==============================] - 6s 110ms/step - loss: 0.5665 - accuracy: 0.8084 - val_loss: 0.4295 - val_accuracy: 0.8810\n",
      "Epoch 17/50\n",
      "55/55 [==============================] - 6s 111ms/step - loss: 0.5293 - accuracy: 0.8176 - val_loss: 0.4433 - val_accuracy: 0.8764\n",
      "Epoch 18/50\n",
      "55/55 [==============================] - 6s 109ms/step - loss: 0.5032 - accuracy: 0.8296 - val_loss: 0.4447 - val_accuracy: 0.8741\n",
      "Epoch 19/50\n",
      "55/55 [==============================] - 6s 110ms/step - loss: 0.4910 - accuracy: 0.8276 - val_loss: 0.4322 - val_accuracy: 0.8833\n",
      "Epoch 20/50\n",
      "55/55 [==============================] - 6s 110ms/step - loss: 0.4569 - accuracy: 0.8407 - val_loss: 0.4171 - val_accuracy: 0.8936\n",
      "Epoch 21/50\n",
      "55/55 [==============================] - 6s 110ms/step - loss: 0.4444 - accuracy: 0.8468 - val_loss: 0.4742 - val_accuracy: 0.8719\n",
      "Epoch 22/50\n",
      "55/55 [==============================] - 6s 110ms/step - loss: 0.4266 - accuracy: 0.8510 - val_loss: 0.4603 - val_accuracy: 0.8822\n",
      "Epoch 23/50\n",
      "55/55 [==============================] - 6s 108ms/step - loss: 0.4029 - accuracy: 0.8640 - val_loss: 0.4821 - val_accuracy: 0.8879\n",
      "Epoch 24/50\n",
      "55/55 [==============================] - 6s 117ms/step - loss: 0.4156 - accuracy: 0.8593 - val_loss: 0.4625 - val_accuracy: 0.9039\n",
      "Epoch 25/50\n",
      "55/55 [==============================] - 7s 129ms/step - loss: 0.3913 - accuracy: 0.8636 - val_loss: 0.4634 - val_accuracy: 0.8890\n",
      "Epoch 26/50\n",
      "55/55 [==============================] - 7s 124ms/step - loss: 0.3762 - accuracy: 0.8693 - val_loss: 0.4208 - val_accuracy: 0.9005\n",
      "Epoch 27/50\n",
      "55/55 [==============================] - 7s 125ms/step - loss: 0.3678 - accuracy: 0.8702 - val_loss: 0.3976 - val_accuracy: 0.8913\n",
      "Epoch 28/50\n",
      "55/55 [==============================] - 7s 126ms/step - loss: 0.3716 - accuracy: 0.8710 - val_loss: 0.4409 - val_accuracy: 0.8856\n",
      "Epoch 29/50\n",
      "55/55 [==============================] - 7s 120ms/step - loss: 0.3715 - accuracy: 0.8686 - val_loss: 0.4198 - val_accuracy: 0.8959\n",
      "Epoch 30/50\n",
      "55/55 [==============================] - 7s 123ms/step - loss: 0.3687 - accuracy: 0.8712 - val_loss: 0.4619 - val_accuracy: 0.8638\n",
      "Epoch 31/50\n",
      "55/55 [==============================] - 7s 125ms/step - loss: 0.3595 - accuracy: 0.8779 - val_loss: 0.4565 - val_accuracy: 0.8844\n",
      "Epoch 32/50\n",
      "55/55 [==============================] - 7s 125ms/step - loss: 0.3277 - accuracy: 0.8903 - val_loss: 0.4398 - val_accuracy: 0.9016\n",
      "Epoch 33/50\n",
      "55/55 [==============================] - 7s 128ms/step - loss: 0.3305 - accuracy: 0.8870 - val_loss: 0.4727 - val_accuracy: 0.8947\n",
      "Epoch 34/50\n",
      "55/55 [==============================] - 7s 127ms/step - loss: 0.3069 - accuracy: 0.8936 - val_loss: 0.4162 - val_accuracy: 0.8970\n",
      "Epoch 35/50\n",
      "55/55 [==============================] - 7s 133ms/step - loss: 0.3179 - accuracy: 0.8903 - val_loss: 0.4612 - val_accuracy: 0.8867\n",
      "Epoch 36/50\n",
      "55/55 [==============================] - 7s 133ms/step - loss: 0.2944 - accuracy: 0.8986 - val_loss: 0.4212 - val_accuracy: 0.9039\n",
      "Epoch 37/50\n",
      "55/55 [==============================] - 7s 132ms/step - loss: 0.2995 - accuracy: 0.8948 - val_loss: 0.4977 - val_accuracy: 0.8844\n",
      "Epoch 38/50\n",
      "55/55 [==============================] - 7s 133ms/step - loss: 0.3140 - accuracy: 0.8905 - val_loss: 0.4941 - val_accuracy: 0.8879\n",
      "Epoch 39/50\n",
      "55/55 [==============================] - 7s 130ms/step - loss: 0.2966 - accuracy: 0.8986 - val_loss: 0.4814 - val_accuracy: 0.8947\n",
      "Epoch 40/50\n",
      "55/55 [==============================] - 7s 134ms/step - loss: 0.2969 - accuracy: 0.8982 - val_loss: 0.4568 - val_accuracy: 0.9016\n",
      "Epoch 41/50\n",
      "55/55 [==============================] - 8s 137ms/step - loss: 0.2900 - accuracy: 0.9014 - val_loss: 0.5036 - val_accuracy: 0.8902\n",
      "Epoch 42/50\n",
      "55/55 [==============================] - 7s 135ms/step - loss: 0.2862 - accuracy: 0.9055 - val_loss: 0.5271 - val_accuracy: 0.8867\n",
      "Epoch 43/50\n",
      "55/55 [==============================] - 8s 145ms/step - loss: 0.3019 - accuracy: 0.8962 - val_loss: 0.5112 - val_accuracy: 0.8844\n",
      "Epoch 44/50\n",
      "55/55 [==============================] - 7s 127ms/step - loss: 0.2652 - accuracy: 0.9094 - val_loss: 0.4324 - val_accuracy: 0.9062\n",
      "Epoch 45/50\n",
      "55/55 [==============================] - 6s 117ms/step - loss: 0.2739 - accuracy: 0.9075 - val_loss: 0.4145 - val_accuracy: 0.9130\n",
      "Epoch 46/50\n",
      "55/55 [==============================] - 7s 129ms/step - loss: 0.2848 - accuracy: 0.9048 - val_loss: 0.4709 - val_accuracy: 0.8970\n",
      "Epoch 47/50\n",
      "55/55 [==============================] - 7s 131ms/step - loss: 0.2495 - accuracy: 0.9170 - val_loss: 0.4770 - val_accuracy: 0.9016\n",
      "Epoch 48/50\n",
      "55/55 [==============================] - 7s 129ms/step - loss: 0.2533 - accuracy: 0.9162 - val_loss: 0.5006 - val_accuracy: 0.8993\n",
      "Epoch 49/50\n",
      "55/55 [==============================] - 7s 127ms/step - loss: 0.2699 - accuracy: 0.9055 - val_loss: 0.4036 - val_accuracy: 0.9085\n",
      "Epoch 50/50\n",
      "55/55 [==============================] - 7s 133ms/step - loss: 0.2627 - accuracy: 0.9111 - val_loss: 0.4940 - val_accuracy: 0.9050\n"
     ]
    }
   ],
   "source": [
    "results = model.fit(x_train, y_train,\n",
    "                    batch_size=128,\n",
    "                    epochs=50,\n",
    "                    validation_data=(x_val,y_val))"
   ]
  },
  {
   "cell_type": "code",
   "execution_count": 39,
   "metadata": {},
   "outputs": [
    {
     "data": {
      "image/png": "[encoded data removed]",
      "text/plain": [
       "<Figure size 432x288 with 1 Axes>"
      ]
     },
     "metadata": {
      "needs_background": "light"
     },
     "output_type": "display_data"
    }
   ],
   "source": [
    "plt.plot(results.history[\"loss\"], label=\"loss\")\n",
    "\n",
    "plt.plot(results.history[\"val_loss\"], label=\"val_loss\")\n",
    "\n",
    "plt.xlabel(\"Epoch\")\n",
    "plt.ylabel(\"Loss\")\n",
    "\n",
    "plt.legend()\n",
    "\n",
    "plt.show()"
   ]
  },
  {
   "cell_type": "code",
   "execution_count": 40,
   "metadata": {},
   "outputs": [
    {
     "data": {
      "image/png": "[encoded data removed]",
      "text/plain": [
       "<Figure size 432x288 with 1 Axes>"
      ]
     },
     "metadata": {
      "needs_background": "light"
     },
     "output_type": "display_data"
    }
   ],
   "source": [
    "plt.plot(results.history[\"accuracy\"], label=\"accuracy\")\n",
    "\n",
    "plt.plot(results.history[\"val_accuracy\"], label=\"val_accuracy\")\n",
    "\n",
    "plt.xlabel(\"Epoch\")\n",
    "plt.ylabel(\"Accuracy\")\n",
    "\n",
    "plt.legend()\n",
    "\n",
    "plt.show()"
   ]
  },
  {
   "cell_type": "code",
   "execution_count": 41,
   "metadata": {},
   "outputs": [
    {
     "name": "stdout",
     "output_type": "stream",
     "text": [
      "28/28 [==============================] - 2s 35ms/step - loss: 0.4986 - accuracy: 0.9026\n"
     ]
    },
    {
     "data": {
      "text/plain": [
       "[0.4986431300640106, 0.9026346206665039]"
      ]
     },
     "execution_count": 41,
     "metadata": {},
     "output_type": "execute_result"
    }
   ],
   "source": [
    "model.evaluate(x_test, y_test)"
   ]
  }
 ],
 "metadata": {
  "kernelspec": {
   "display_name": "Python 3.10.1 64-bit",
   "language": "python",
   "name": "python3"
  },
  "language_info": {
   "codemirror_mode": {
    "name": "ipython",
    "version": 3
   },
   "file_extension": ".py",
   "mimetype": "text/x-python",
   "name": "python",
   "nbconvert_exporter": "python",
   "pygments_lexer": "ipython3",
   "version": "3.10.1"
  },
  "orig_nbformat": 4,
  "vscode": {
   "interpreter": {
    "hash": "8606a131322c613504b286d390da4d4ae53d0e9600ce56caa7177143f04754e4"
   }
  }
 },
 "nbformat": 4,
 "nbformat_minor": 2
}
